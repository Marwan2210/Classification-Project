{
 "cells": [
  {
   "cell_type": "code",
   "execution_count": 1,
   "id": "203ed34c-750d-4685-98fd-b30fc98ce3f4",
   "metadata": {},
   "outputs": [
    {
     "name": "stderr",
     "output_type": "stream",
     "text": [
      "C:\\Users\\merow\\anaconda3\\Lib\\site-packages\\pandas\\core\\arrays\\masked.py:60: UserWarning: Pandas requires version '1.3.6' or newer of 'bottleneck' (version '1.3.5' currently installed).\n",
      "  from pandas.core import (\n"
     ]
    }
   ],
   "source": [
    "import  pandas as pd\n",
    "import numpy as np\n",
    "import matplotlib.pyplot as plt\n",
    "import seaborn as sns\n",
    "from sklearn.decomposition import PCA\n",
    "from sklearn.model_selection import train_test_split,KFold,cross_val_score,StratifiedKFold,GridSearchCV\n",
    "from sklearn import tree\n",
    "from sklearn.tree import DecisionTreeClassifier\n",
    "from sklearn.ensemble import RandomForestClassifier\n",
    "import matplotlib.pyplot as plt\n",
    "from sklearn.metrics import confusion_matrix,classification_report,roc_auc_score, roc_curve,ConfusionMatrixDisplay,accuracy_score\n",
    "from sklearn.preprocessing import StandardScaler\n",
    "from sklearn.neighbors import KNeighborsClassifier\n",
    "from sklearn.naive_bayes import GaussianNB\n",
    "from sklearn.linear_model import LogisticRegression\n",
    "from sklearn.preprocessing import OneHotEncoder\n",
    "from sklearn.compose import ColumnTransformer\n",
    "from sklearn.pipeline import Pipeline\n",
    "from sklearn.impute import SimpleImputer\n",
    "from scipy.spatial import Voronoi, voronoi_plot_2d"
   ]
  },
  {
   "cell_type": "markdown",
   "id": "55101676-6947-4d7e-a0d6-ccff976d2e73",
   "metadata": {},
   "source": [
    "## Import 2017-05 Data"
   ]
  },
  {
   "cell_type": "code",
   "execution_count": 2,
   "id": "73e044ac-b84a-4547-a150-bb0efb5e8bd0",
   "metadata": {},
   "outputs": [],
   "source": [
    "df=pd.read_csv('green_tripdata_{17}-{8}encoded.csv')"
   ]
  },
  {
   "cell_type": "code",
   "execution_count": 3,
   "id": "d197853b-2f28-496a-b587-da50cbb91e20",
   "metadata": {},
   "outputs": [
    {
     "data": {
      "text/html": [
       "<div>\n",
       "<style scoped>\n",
       "    .dataframe tbody tr th:only-of-type {\n",
       "        vertical-align: middle;\n",
       "    }\n",
       "\n",
       "    .dataframe tbody tr th {\n",
       "        vertical-align: top;\n",
       "    }\n",
       "\n",
       "    .dataframe thead th {\n",
       "        text-align: right;\n",
       "    }\n",
       "</style>\n",
       "<table border=\"1\" class=\"dataframe\">\n",
       "  <thead>\n",
       "    <tr style=\"text-align: right;\">\n",
       "      <th></th>\n",
       "      <th>vendor</th>\n",
       "      <th>lpep_pickup_datetime</th>\n",
       "      <th>lpep_dropoff_datetime</th>\n",
       "      <th>store_and_fwd_flag</th>\n",
       "      <th>rate_type</th>\n",
       "      <th>pu_location</th>\n",
       "      <th>do_location</th>\n",
       "      <th>passenger_count</th>\n",
       "      <th>trip_distance</th>\n",
       "      <th>fare_amount</th>\n",
       "      <th>...</th>\n",
       "      <th>improvement_surcharge</th>\n",
       "      <th>total_amount</th>\n",
       "      <th>payment_type</th>\n",
       "      <th>trip_type</th>\n",
       "      <th>pickup_datetime</th>\n",
       "      <th>pickup_hour</th>\n",
       "      <th>pickup_day_of_week</th>\n",
       "      <th>duration</th>\n",
       "      <th>duration_seconds</th>\n",
       "      <th>weekend</th>\n",
       "    </tr>\n",
       "  </thead>\n",
       "  <tbody>\n",
       "    <tr>\n",
       "      <th>0</th>\n",
       "      <td>0</td>\n",
       "      <td>2017-08-01 00:21:35</td>\n",
       "      <td>2017-08-01 00:27:59</td>\n",
       "      <td>0</td>\n",
       "      <td>0</td>\n",
       "      <td>0</td>\n",
       "      <td>0</td>\n",
       "      <td>1.0</td>\n",
       "      <td>1.43</td>\n",
       "      <td>7.0</td>\n",
       "      <td>...</td>\n",
       "      <td>0.3</td>\n",
       "      <td>9.96</td>\n",
       "      <td>0</td>\n",
       "      <td>0</td>\n",
       "      <td>2017-08-01 00:21:35</td>\n",
       "      <td>0</td>\n",
       "      <td>1</td>\n",
       "      <td>2024-06-08 00:06:24</td>\n",
       "      <td>384</td>\n",
       "      <td>False</td>\n",
       "    </tr>\n",
       "    <tr>\n",
       "      <th>1</th>\n",
       "      <td>0</td>\n",
       "      <td>2017-08-01 00:37:27</td>\n",
       "      <td>2017-08-01 00:39:02</td>\n",
       "      <td>0</td>\n",
       "      <td>0</td>\n",
       "      <td>1</td>\n",
       "      <td>1</td>\n",
       "      <td>1.0</td>\n",
       "      <td>1.09</td>\n",
       "      <td>3.5</td>\n",
       "      <td>...</td>\n",
       "      <td>0.3</td>\n",
       "      <td>4.80</td>\n",
       "      <td>1</td>\n",
       "      <td>0</td>\n",
       "      <td>2017-08-01 00:37:27</td>\n",
       "      <td>0</td>\n",
       "      <td>1</td>\n",
       "      <td>2024-06-08 00:01:35</td>\n",
       "      <td>95</td>\n",
       "      <td>False</td>\n",
       "    </tr>\n",
       "    <tr>\n",
       "      <th>2</th>\n",
       "      <td>0</td>\n",
       "      <td>2017-08-01 00:04:03</td>\n",
       "      <td>2017-08-01 00:05:45</td>\n",
       "      <td>0</td>\n",
       "      <td>0</td>\n",
       "      <td>2</td>\n",
       "      <td>2</td>\n",
       "      <td>1.0</td>\n",
       "      <td>1.09</td>\n",
       "      <td>3.5</td>\n",
       "      <td>...</td>\n",
       "      <td>0.3</td>\n",
       "      <td>4.80</td>\n",
       "      <td>1</td>\n",
       "      <td>0</td>\n",
       "      <td>2017-08-01 00:04:03</td>\n",
       "      <td>0</td>\n",
       "      <td>1</td>\n",
       "      <td>2024-06-08 00:01:42</td>\n",
       "      <td>102</td>\n",
       "      <td>False</td>\n",
       "    </tr>\n",
       "    <tr>\n",
       "      <th>3</th>\n",
       "      <td>0</td>\n",
       "      <td>2017-08-01 00:05:23</td>\n",
       "      <td>2017-08-01 00:09:20</td>\n",
       "      <td>0</td>\n",
       "      <td>0</td>\n",
       "      <td>0</td>\n",
       "      <td>0</td>\n",
       "      <td>2.0</td>\n",
       "      <td>1.12</td>\n",
       "      <td>5.5</td>\n",
       "      <td>...</td>\n",
       "      <td>0.3</td>\n",
       "      <td>8.16</td>\n",
       "      <td>0</td>\n",
       "      <td>0</td>\n",
       "      <td>2017-08-01 00:05:23</td>\n",
       "      <td>0</td>\n",
       "      <td>1</td>\n",
       "      <td>2024-06-08 00:03:57</td>\n",
       "      <td>237</td>\n",
       "      <td>False</td>\n",
       "    </tr>\n",
       "    <tr>\n",
       "      <th>4</th>\n",
       "      <td>0</td>\n",
       "      <td>2017-08-01 00:29:09</td>\n",
       "      <td>2017-08-01 00:34:44</td>\n",
       "      <td>0</td>\n",
       "      <td>0</td>\n",
       "      <td>3</td>\n",
       "      <td>3</td>\n",
       "      <td>2.0</td>\n",
       "      <td>1.09</td>\n",
       "      <td>6.0</td>\n",
       "      <td>...</td>\n",
       "      <td>0.3</td>\n",
       "      <td>7.30</td>\n",
       "      <td>1</td>\n",
       "      <td>0</td>\n",
       "      <td>2017-08-01 00:29:09</td>\n",
       "      <td>0</td>\n",
       "      <td>1</td>\n",
       "      <td>2024-06-08 00:05:35</td>\n",
       "      <td>335</td>\n",
       "      <td>False</td>\n",
       "    </tr>\n",
       "  </tbody>\n",
       "</table>\n",
       "<p>5 rows × 24 columns</p>\n",
       "</div>"
      ],
      "text/plain": [
       "   vendor lpep_pickup_datetime lpep_dropoff_datetime  store_and_fwd_flag  \\\n",
       "0       0  2017-08-01 00:21:35   2017-08-01 00:27:59                   0   \n",
       "1       0  2017-08-01 00:37:27   2017-08-01 00:39:02                   0   \n",
       "2       0  2017-08-01 00:04:03   2017-08-01 00:05:45                   0   \n",
       "3       0  2017-08-01 00:05:23   2017-08-01 00:09:20                   0   \n",
       "4       0  2017-08-01 00:29:09   2017-08-01 00:34:44                   0   \n",
       "\n",
       "   rate_type  pu_location  do_location  passenger_count  trip_distance  \\\n",
       "0          0            0            0              1.0           1.43   \n",
       "1          0            1            1              1.0           1.09   \n",
       "2          0            2            2              1.0           1.09   \n",
       "3          0            0            0              2.0           1.12   \n",
       "4          0            3            3              2.0           1.09   \n",
       "\n",
       "   fare_amount  ...  improvement_surcharge  total_amount  payment_type  \\\n",
       "0          7.0  ...                    0.3          9.96             0   \n",
       "1          3.5  ...                    0.3          4.80             1   \n",
       "2          3.5  ...                    0.3          4.80             1   \n",
       "3          5.5  ...                    0.3          8.16             0   \n",
       "4          6.0  ...                    0.3          7.30             1   \n",
       "\n",
       "   trip_type      pickup_datetime  pickup_hour  pickup_day_of_week  \\\n",
       "0          0  2017-08-01 00:21:35            0                   1   \n",
       "1          0  2017-08-01 00:37:27            0                   1   \n",
       "2          0  2017-08-01 00:04:03            0                   1   \n",
       "3          0  2017-08-01 00:05:23            0                   1   \n",
       "4          0  2017-08-01 00:29:09            0                   1   \n",
       "\n",
       "              duration duration_seconds  weekend  \n",
       "0  2024-06-08 00:06:24              384    False  \n",
       "1  2024-06-08 00:01:35               95    False  \n",
       "2  2024-06-08 00:01:42              102    False  \n",
       "3  2024-06-08 00:03:57              237    False  \n",
       "4  2024-06-08 00:05:35              335    False  \n",
       "\n",
       "[5 rows x 24 columns]"
      ]
     },
     "execution_count": 3,
     "metadata": {},
     "output_type": "execute_result"
    }
   ],
   "source": [
    "df.head()"
   ]
  },
  {
   "cell_type": "code",
   "execution_count": 4,
   "id": "a81726af-083f-4262-87ab-0424f3ce2ee6",
   "metadata": {},
   "outputs": [
    {
     "name": "stdout",
     "output_type": "stream",
     "text": [
      "   total_amount price_range\n",
      "0          9.96      medium\n",
      "1          4.80         low\n",
      "2          4.80         low\n",
      "3          8.16         low\n",
      "4          7.30         low\n",
      "price_range\n",
      "low       294507\n",
      "high      293801\n",
      "medium    278465\n",
      "Name: count, dtype: int64\n"
     ]
    }
   ],
   "source": [
    "# Determine the quantiles for categorizing price range\n",
    "low_threshold = df['total_amount'].quantile(0.33)\n",
    "medium_threshold = df['total_amount'].quantile(0.66)\n",
    "\n",
    "# Define the price range based on quantiles\n",
    "def categorize_price(total_amount):\n",
    "    if total_amount <= low_threshold:\n",
    "        return 'low'\n",
    "    elif low_threshold < total_amount <= medium_threshold:\n",
    "        return 'medium'\n",
    "    else:\n",
    "        return 'high'\n",
    "\n",
    "# Apply the function to the DataFrame\n",
    "df['price_range'] = df['total_amount'].apply(categorize_price)\n",
    "\n",
    "# Inspect the DataFrame to check the new column\n",
    "print(df[['total_amount', 'price_range']].head())\n",
    "print(df['price_range'].value_counts())\n"
   ]
  },
  {
   "cell_type": "markdown",
   "id": "1fae290f-d802-4f7a-a9bc-f2ea6b7d2cd7",
   "metadata": {},
   "source": [
    "## Pre-processing of the dataset"
   ]
  },
  {
   "cell_type": "markdown",
   "id": "907fb74f-1a40-4218-8e78-e1490abaeb95",
   "metadata": {},
   "source": [
    "#### Split Data into Training and Testing Sets"
   ]
  },
  {
   "cell_type": "code",
   "execution_count": 5,
   "id": "5b5b865e-4735-4bc4-8f12-166eec036fdf",
   "metadata": {},
   "outputs": [],
   "source": [
    "# Convert datetime columns to datetime objects\n",
    "df['lpep_pickup_datetime'] = pd.to_datetime(df['lpep_pickup_datetime'])\n",
    "df['lpep_dropoff_datetime'] = pd.to_datetime(df['lpep_dropoff_datetime'])\n",
    "# Extract datetime features\n",
    "df['pickup_hour'] = df['lpep_pickup_datetime'].dt.hour\n",
    "df['pickup_day'] = df['lpep_pickup_datetime'].dt.day\n",
    "df['pickup_month'] = df['lpep_pickup_datetime'].dt.month\n",
    "df['dropoff_hour'] = df['lpep_dropoff_datetime'].dt.hour\n",
    "df['dropoff_day'] = df['lpep_dropoff_datetime'].dt.day\n",
    "df['dropoff_month'] = df['lpep_dropoff_datetime'].dt.month\n",
    "# Drop the original datetime columns\n",
    "df=df.drop(columns=['total_amount','fare_amount','mta_tax','tip_amount','extra','tolls_amount','improvement_surcharge','lpep_pickup_datetime', 'lpep_dropoff_datetime','duration','pickup_datetime'])"
   ]
  },
  {
   "cell_type": "code",
   "execution_count": 6,
   "id": "9ed41bf8-c31e-4092-9e70-cbb60646848d",
   "metadata": {},
   "outputs": [
    {
     "data": {
      "text/html": [
       "<div>\n",
       "<style scoped>\n",
       "    .dataframe tbody tr th:only-of-type {\n",
       "        vertical-align: middle;\n",
       "    }\n",
       "\n",
       "    .dataframe tbody tr th {\n",
       "        vertical-align: top;\n",
       "    }\n",
       "\n",
       "    .dataframe thead th {\n",
       "        text-align: right;\n",
       "    }\n",
       "</style>\n",
       "<table border=\"1\" class=\"dataframe\">\n",
       "  <thead>\n",
       "    <tr style=\"text-align: right;\">\n",
       "      <th></th>\n",
       "      <th>vendor</th>\n",
       "      <th>store_and_fwd_flag</th>\n",
       "      <th>rate_type</th>\n",
       "      <th>pu_location</th>\n",
       "      <th>do_location</th>\n",
       "      <th>passenger_count</th>\n",
       "      <th>trip_distance</th>\n",
       "      <th>payment_type</th>\n",
       "      <th>trip_type</th>\n",
       "      <th>pickup_hour</th>\n",
       "      <th>pickup_day_of_week</th>\n",
       "      <th>duration_seconds</th>\n",
       "      <th>weekend</th>\n",
       "      <th>price_range</th>\n",
       "      <th>pickup_day</th>\n",
       "      <th>pickup_month</th>\n",
       "      <th>dropoff_hour</th>\n",
       "      <th>dropoff_day</th>\n",
       "      <th>dropoff_month</th>\n",
       "    </tr>\n",
       "  </thead>\n",
       "  <tbody>\n",
       "    <tr>\n",
       "      <th>0</th>\n",
       "      <td>0</td>\n",
       "      <td>0</td>\n",
       "      <td>0</td>\n",
       "      <td>0</td>\n",
       "      <td>0</td>\n",
       "      <td>1.0</td>\n",
       "      <td>1.43</td>\n",
       "      <td>0</td>\n",
       "      <td>0</td>\n",
       "      <td>0</td>\n",
       "      <td>1</td>\n",
       "      <td>384</td>\n",
       "      <td>False</td>\n",
       "      <td>medium</td>\n",
       "      <td>1</td>\n",
       "      <td>8</td>\n",
       "      <td>0</td>\n",
       "      <td>1</td>\n",
       "      <td>8</td>\n",
       "    </tr>\n",
       "    <tr>\n",
       "      <th>1</th>\n",
       "      <td>0</td>\n",
       "      <td>0</td>\n",
       "      <td>0</td>\n",
       "      <td>1</td>\n",
       "      <td>1</td>\n",
       "      <td>1.0</td>\n",
       "      <td>1.09</td>\n",
       "      <td>1</td>\n",
       "      <td>0</td>\n",
       "      <td>0</td>\n",
       "      <td>1</td>\n",
       "      <td>95</td>\n",
       "      <td>False</td>\n",
       "      <td>low</td>\n",
       "      <td>1</td>\n",
       "      <td>8</td>\n",
       "      <td>0</td>\n",
       "      <td>1</td>\n",
       "      <td>8</td>\n",
       "    </tr>\n",
       "    <tr>\n",
       "      <th>2</th>\n",
       "      <td>0</td>\n",
       "      <td>0</td>\n",
       "      <td>0</td>\n",
       "      <td>2</td>\n",
       "      <td>2</td>\n",
       "      <td>1.0</td>\n",
       "      <td>1.09</td>\n",
       "      <td>1</td>\n",
       "      <td>0</td>\n",
       "      <td>0</td>\n",
       "      <td>1</td>\n",
       "      <td>102</td>\n",
       "      <td>False</td>\n",
       "      <td>low</td>\n",
       "      <td>1</td>\n",
       "      <td>8</td>\n",
       "      <td>0</td>\n",
       "      <td>1</td>\n",
       "      <td>8</td>\n",
       "    </tr>\n",
       "    <tr>\n",
       "      <th>3</th>\n",
       "      <td>0</td>\n",
       "      <td>0</td>\n",
       "      <td>0</td>\n",
       "      <td>0</td>\n",
       "      <td>0</td>\n",
       "      <td>2.0</td>\n",
       "      <td>1.12</td>\n",
       "      <td>0</td>\n",
       "      <td>0</td>\n",
       "      <td>0</td>\n",
       "      <td>1</td>\n",
       "      <td>237</td>\n",
       "      <td>False</td>\n",
       "      <td>low</td>\n",
       "      <td>1</td>\n",
       "      <td>8</td>\n",
       "      <td>0</td>\n",
       "      <td>1</td>\n",
       "      <td>8</td>\n",
       "    </tr>\n",
       "    <tr>\n",
       "      <th>4</th>\n",
       "      <td>0</td>\n",
       "      <td>0</td>\n",
       "      <td>0</td>\n",
       "      <td>3</td>\n",
       "      <td>3</td>\n",
       "      <td>2.0</td>\n",
       "      <td>1.09</td>\n",
       "      <td>1</td>\n",
       "      <td>0</td>\n",
       "      <td>0</td>\n",
       "      <td>1</td>\n",
       "      <td>335</td>\n",
       "      <td>False</td>\n",
       "      <td>low</td>\n",
       "      <td>1</td>\n",
       "      <td>8</td>\n",
       "      <td>0</td>\n",
       "      <td>1</td>\n",
       "      <td>8</td>\n",
       "    </tr>\n",
       "  </tbody>\n",
       "</table>\n",
       "</div>"
      ],
      "text/plain": [
       "   vendor  store_and_fwd_flag  rate_type  pu_location  do_location  \\\n",
       "0       0                   0          0            0            0   \n",
       "1       0                   0          0            1            1   \n",
       "2       0                   0          0            2            2   \n",
       "3       0                   0          0            0            0   \n",
       "4       0                   0          0            3            3   \n",
       "\n",
       "   passenger_count  trip_distance  payment_type  trip_type  pickup_hour  \\\n",
       "0              1.0           1.43             0          0            0   \n",
       "1              1.0           1.09             1          0            0   \n",
       "2              1.0           1.09             1          0            0   \n",
       "3              2.0           1.12             0          0            0   \n",
       "4              2.0           1.09             1          0            0   \n",
       "\n",
       "   pickup_day_of_week  duration_seconds  weekend price_range  pickup_day  \\\n",
       "0                   1               384    False      medium           1   \n",
       "1                   1                95    False         low           1   \n",
       "2                   1               102    False         low           1   \n",
       "3                   1               237    False         low           1   \n",
       "4                   1               335    False         low           1   \n",
       "\n",
       "   pickup_month  dropoff_hour  dropoff_day  dropoff_month  \n",
       "0             8             0            1              8  \n",
       "1             8             0            1              8  \n",
       "2             8             0            1              8  \n",
       "3             8             0            1              8  \n",
       "4             8             0            1              8  "
      ]
     },
     "execution_count": 6,
     "metadata": {},
     "output_type": "execute_result"
    }
   ],
   "source": [
    "df.head()"
   ]
  },
  {
   "cell_type": "code",
   "execution_count": 7,
   "id": "28b85177-702d-4522-92b5-ad98f69573d8",
   "metadata": {},
   "outputs": [
    {
     "name": "stdout",
     "output_type": "stream",
     "text": [
      "Index(['vendor', 'store_and_fwd_flag', 'rate_type', 'pu_location',\n",
      "       'do_location', 'passenger_count', 'trip_distance', 'payment_type',\n",
      "       'trip_type', 'pickup_hour', 'pickup_day_of_week', 'duration_seconds',\n",
      "       'weekend', 'price_range', 'pickup_day', 'pickup_month', 'dropoff_hour',\n",
      "       'dropoff_day', 'dropoff_month'],\n",
      "      dtype='object')\n"
     ]
    }
   ],
   "source": [
    "print(df.columns)"
   ]
  },
  {
   "cell_type": "code",
   "execution_count": 8,
   "id": "732cee3d-58ca-475c-a518-f595f1420b87",
   "metadata": {},
   "outputs": [
    {
     "name": "stdout",
     "output_type": "stream",
     "text": [
      "(693418, 17) (173355, 17)\n",
      "(693418,) (173355,)\n"
     ]
    }
   ],
   "source": [
    "# Separate features and target\n",
    "x = df.drop(columns=['price_range'])\n",
    "y = df['price_range']\n",
    "\n",
    "# Define categorical and numerical columns\n",
    "categorical_cols = x.select_dtypes(include=['object']).columns\n",
    "numerical_cols = x.select_dtypes(include=['number']).columns\n",
    "\n",
    "# Preprocessing for numerical data\n",
    "numerical_transformer = Pipeline(steps=[\n",
    "    ('imputer', SimpleImputer(strategy='median')),\n",
    "    ('scaler', StandardScaler())\n",
    "])\n",
    "\n",
    "# Preprocessing for categorical data\n",
    "categorical_transformer = Pipeline(steps=[\n",
    "    ('imputer', SimpleImputer(strategy='constant', fill_value='missing')),\n",
    "    ('onehot', OneHotEncoder(handle_unknown='ignore'))\n",
    "])\n",
    "\n",
    "# Bundle preprocessing for numerical and categorical data\n",
    "preprocessor = ColumnTransformer(\n",
    "    transformers=[\n",
    "        ('num', numerical_transformer, numerical_cols),\n",
    "        ('cat', categorical_transformer, categorical_cols)\n",
    "    ])\n",
    "\n",
    "# Apply preprocessing to the data\n",
    "X = preprocessor.fit_transform(x)\n",
    "\n",
    "# Split the data into training and testing sets\n",
    "X_train, X_test, y_train, y_test = train_test_split(X, y, test_size=0.2, random_state=42)\n",
    "\n",
    "# Check the shape of the training and testing sets\n",
    "print(X_train.shape, X_test.shape)\n",
    "print(y_train.shape, y_test.shape)\n"
   ]
  },
  {
   "cell_type": "markdown",
   "id": "15a2b03a-c610-4fe4-a6e2-25a0363af213",
   "metadata": {},
   "source": [
    "## Implement Algorithms"
   ]
  },
  {
   "cell_type": "markdown",
   "id": "8a56249e-d226-474c-8365-ee6f60ee2425",
   "metadata": {},
   "source": [
    "### Naive Bayes Classification"
   ]
  },
  {
   "cell_type": "code",
   "execution_count": 10,
   "id": "a36db075-d47f-42c4-9dfa-3a770745e6bc",
   "metadata": {},
   "outputs": [
    {
     "name": "stdout",
     "output_type": "stream",
     "text": [
      "Accuracy: 0.4949035216751752\n",
      "Naive Bayes Classification Report:\n",
      "              precision    recall  f1-score   support\n",
      "\n",
      "        high       0.82      0.35      0.49     58871\n",
      "         low       0.51      0.87      0.64     58636\n",
      "      medium       0.29      0.26      0.28     55848\n",
      "\n",
      "    accuracy                           0.49    173355\n",
      "   macro avg       0.54      0.49      0.47    173355\n",
      "weighted avg       0.55      0.49      0.47    173355\n",
      "\n"
     ]
    }
   ],
   "source": [
    "import pandas as pd\n",
    "from sklearn.decomposition import TruncatedSVD\n",
    "from sklearn.naive_bayes import GaussianNB\n",
    "from sklearn.metrics import accuracy_score, classification_report\n",
    "from sklearn.model_selection import train_test_split\n",
    "\n",
    "# Assuming you have already defined X and y\n",
    "\n",
    "# Split the data into train and test sets\n",
    "X_train, X_test, y_train, y_test = train_test_split(X, y, test_size=0.2, random_state=42)\n",
    "\n",
    "# Reduce the dimensionality of the data\n",
    "n_components = min(X_train.shape[0], X_train.shape[1]) - 1  # Adjust based on your needs\n",
    "svd = TruncatedSVD(n_components=n_components)\n",
    "X_train_reduced = svd.fit_transform(X_train)\n",
    "X_test_reduced = svd.transform(X_test)\n",
    "\n",
    "# Create and train the model\n",
    "nb = GaussianNB()\n",
    "nb.fit(X_train_reduced, y_train)\n",
    "\n",
    "# Predict on the test set\n",
    "y_pred_nb = nb.predict(X_test_reduced)\n",
    "\n",
    "# Evaluate the model\n",
    "accuracy = accuracy_score(y_test, y_pred_nb)\n",
    "print(\"Accuracy:\", accuracy)\n",
    "\n",
    "# Print classification report\n",
    "print(\"Naive Bayes Classification Report:\")\n",
    "print(classification_report(y_test, y_pred_nb))\n"
   ]
  },
  {
   "cell_type": "markdown",
   "id": "80401075-f164-4fc1-af18-300208116e4e",
   "metadata": {},
   "source": [
    "### Function to Plot Confusion Matrix"
   ]
  },
  {
   "cell_type": "code",
   "execution_count": 11,
   "id": "21f8ea63-3355-4dfc-a2c8-300ca8c1f663",
   "metadata": {},
   "outputs": [],
   "source": [
    "def plot_confusion_matrix(y_true, y_pred, title):\n",
    "    cm = confusion_matrix(y_true, y_pred)\n",
    "    plt.figure(figsize=(8, 6))\n",
    "    sns.heatmap(cm, annot=True, fmt='d', cmap='Blues', xticklabels=['low', 'medium', 'high'], yticklabels=['low', 'medium', 'high'])\n",
    "    plt.xlabel('Predicted')\n",
    "    plt.ylabel('True')\n",
    "    plt.title(title)\n",
    "    plt.show()"
   ]
  },
  {
   "cell_type": "code",
   "execution_count": 12,
   "id": "56ed6a97-b1c5-4f25-b5e5-62a9c1aebc31",
   "metadata": {},
   "outputs": [
    {
     "data": {
      "image/png": "[encoded data removed]",
      "text/plain": [
       "<Figure size 800x600 with 2 Axes>"
      ]
     },
     "metadata": {},
     "output_type": "display_data"
    }
   ],
   "source": [
    "plot_confusion_matrix(y_test, y_pred_nb, \"Naive Bayes Confusion Matrix\")"
   ]
  },
  {
   "cell_type": "markdown",
   "id": "69308175-b849-44f0-af0e-39bfad0b2b7e",
   "metadata": {},
   "source": [
    "#### Visualizing Feature Importance"
   ]
  },
  {
   "cell_type": "code",
   "execution_count": 27,
   "id": "f39aa0ad-8a32-4717-ab9b-bb1dbaf3ac34",
   "metadata": {},
   "outputs": [
    {
     "data": {
      "image/png": "[encoded data removed]",
      "text/plain": [
       "<Figure size 1000x600 with 1 Axes>"
      ]
     },
     "metadata": {},
     "output_type": "display_data"
    }
   ],
   "source": [
    "import pandas as pd\n",
    "import numpy as np\n",
    "import matplotlib.pyplot as plt\n",
    "from sklearn.model_selection import train_test_split\n",
    "from sklearn.naive_bayes import GaussianNB\n",
    "from sklearn.inspection import permutation_importance\n",
    "\n",
    "# Assuming you have already defined X and y\n",
    "X_df = pd.DataFrame(X)\n",
    "\n",
    "# Split the data into train and test sets\n",
    "X_train, X_test, y_train, y_test = train_test_split(X, y, test_size=0.2, random_state=42)\n",
    "\n",
    "# Fit a Gaussian Naive Bayes model\n",
    "nb = GaussianNB()\n",
    "nb.fit(X_train, y_train)\n",
    "\n",
    "# Calculate permutation importances\n",
    "result = permutation_importance(nb, X_test, y_test, n_repeats=10, random_state=42)\n",
    "sorted_idx = result.importances_mean.argsort()[::-1]  # Sort indices in descending order of importance\n",
    "\n",
    "# Plot the feature importances\n",
    "plt.figure(figsize=(10, 6))\n",
    "plt.bar(range(X_test.shape[1]), result.importances_mean[sorted_idx], align=\"center\")\n",
    "plt.xticks(range(X_test.shape[1]), np.array(X_df.columns)[sorted_idx], rotation=90)  # Plot feature names and rotate labels for better readability\n",
    "plt.xlabel(\"Feature\")\n",
    "plt.ylabel(\"Permutation Importance\")\n",
    "plt.title(\"Permutation Feature Importance\")\n",
    "plt.show()"
   ]
  },
  {
   "cell_type": "markdown",
   "id": "726f1356-b3d2-4b76-9e6b-10cb2c9833f7",
   "metadata": {},
   "source": [
    "#### Cross Validation"
   ]
  },
  {
   "cell_type": "code",
   "execution_count": 29,
   "id": "9540b3f5-a6bd-43c4-a5ac-5778ffee44b3",
   "metadata": {},
   "outputs": [
    {
     "name": "stdout",
     "output_type": "stream",
     "text": [
      "Cross-Validation Scores: [0.76044341 0.74885832 0.76512551 0.75694151 0.74188555]\n",
      "Mean Cross-Validation Score: 0.7546508586946985\n"
     ]
    }
   ],
   "source": [
    "X_train, X_cv, y_train, y_cv = train_test_split(X_train, y_train, test_size=0.25, random_state=42)\n",
    "cv_scores = cross_val_score(nb, X_train, y_train, cv=5)  # You can adjust the number of folds (cv) as needed\n",
    "print(\"Cross-Validation Scores:\", cv_scores)\n",
    "print(\"Mean Cross-Validation Score:\", cv_scores.mean())"
   ]
  },
  {
   "cell_type": "markdown",
   "id": "f9241dd7-118a-4e54-97c5-00f4ec67ed88",
   "metadata": {},
   "source": [
    "#### Learning Curve"
   ]
  },
  {
   "cell_type": "code",
   "execution_count": 14,
   "id": "f21d9a57-e6e9-4675-9169-747f20d40e6e",
   "metadata": {},
   "outputs": [
    {
     "data": {
      "image/png": "[encoded data removed]",
      "text/plain": [
       "<Figure size 640x480 with 1 Axes>"
      ]
     },
     "metadata": {},
     "output_type": "display_data"
    }
   ],
   "source": [
    "from sklearn.model_selection import learning_curve\n",
    "\n",
    "train_sizes, train_scores, test_scores = learning_curve(nb, X, y, cv=5, n_jobs=-1, train_sizes=np.linspace(0.1, 1.0, 5))\n",
    "\n",
    "train_scores_mean = np.mean(train_scores, axis=1)\n",
    "test_scores_mean = np.mean(test_scores, axis=1)\n",
    "\n",
    "plt.figure()\n",
    "plt.plot(train_sizes, train_scores_mean, 'o-', color='r', label='Training score')\n",
    "plt.plot(train_sizes, test_scores_mean, 'o-', color='g', label='Cross-validation score')\n",
    "plt.xlabel('Training examples')\n",
    "plt.ylabel('Score')\n",
    "plt.legend(loc='best')\n",
    "plt.title('Learning Curve')\n",
    "plt.show()"
   ]
  }
 ],
 "metadata": {
  "kernelspec": {
   "display_name": "Python 3 (ipykernel)",
   "language": "python",
   "name": "python3"
  },
  "language_info": {
   "codemirror_mode": {
    "name": "ipython",
    "version": 3
   },
   "file_extension": ".py",
   "mimetype": "text/x-python",
   "name": "python",
   "nbconvert_exporter": "python",
   "pygments_lexer": "ipython3",
   "version": "3.11.4"
  }
 },
 "nbformat": 4,
 "nbformat_minor": 5
}
